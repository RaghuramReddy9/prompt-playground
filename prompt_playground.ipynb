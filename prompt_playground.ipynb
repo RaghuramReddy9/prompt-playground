{
 "cells": [
  {
   "cell_type": "code",
   "execution_count": 1,
   "id": "efb3cd2d",
   "metadata": {},
   "outputs": [
    {
     "name": "stdout",
     "output_type": "stream",
     "text": [
      "\n",
      "--- Direct Prompt ---\n",
      "\n",
      "The history of AI is marked by periods of optimism and disillusionment.  Early work in the 1950s and 60s focused on symbolic reasoning and problem-solving, achieving limited success but fostering initial excitement.  The subsequent \"AI winter\" of the 1970s saw funding dry up due to unmet expectations.  Renewed interest in the 1980s and 90s emerged with expert systems and connectionist approaches, but limitations remained.  The 21st century has witnessed a dramatic resurgence driven by advances in machine learning, particularly deep learning, leading to breakthroughs in areas like image recognition, natural language processing, and game playing.  While achieving remarkable feats, ethical concerns and limitations in general intelligence persist, shaping the ongoing evolution of the field.\n",
      "\n",
      "\n",
      "--- Role-Based Prompt ---\n",
      "\n",
      "The history of artificial intelligence is marked by alternating waves of optimism and disillusionment.  Early conceptualizations in the 1950s, fueled by the Dartmouth Workshop, focused on symbolic reasoning and problem-solving, achieving limited successes but ultimately facing the \"AI winter\" of the 1970s due to limitations in computing power and the complexity of real-world problems.  The resurgence in the 1980s and 90s saw expert systems and connectionist approaches gain traction, though again progress was slower than initially hoped.  The current era, beginning in the late 2000s, is characterized by the triumph of machine learning, particularly deep learning, driven by exponential increases in computational power and the availability of vast datasets, leading to breakthroughs in areas like image recognition, natural language processing, and game playing. However, ethical concerns and limitations in explainability and generalizability remain central challenges.\n",
      "\n",
      "\n",
      "--- Chain-of-Thought Prompt ---\n",
      "\n",
      "Step 1: Early days (1950s-1970s):  The field of AI was officially born at the Dartmouth Workshop in 1956, fueled by optimism about creating thinking machines. Early successes in limited domains like game playing (e.g., checkers) and theorem proving were achieved, but progress was slower than anticipated, leading to the first AI winter (a period of reduced funding and interest). Step 2: Expert Systems and resurgence (1980s):  Expert systems, designed to mimic the decision-making of human experts in specific fields, gained popularity and practical applications.  This sparked renewed interest and investment. Step 3: Machine Learning takes center stage (1990s-2010s):  Advances in computing power and the availability of large datasets fueled the rise of machine learning, particularly neural networks.  Algorithms like support vector machines and random forests found success in various applications. Step 4: Deep Learning Revolution (2010s-present):  Deep learning, a subset of machine learning with multiple layers of neural networks, achieved breakthroughs in image recognition, natural language processing, and other areas, leading to the development of sophisticated AI systems like AlphaGo and large language models (LLMs). This era is characterized by rapid advancement and widespread adoption of AI across industries.\n",
      "\n",
      "**Summary:** The history of AI is marked by periods of significant progress interspersed with periods of reduced enthusiasm (\"AI winters\").  Starting with early symbolic AI and optimistic predictions in the 1950s, the field evolved through expert systems, the rise of machine learning, and finally the current deep learning revolution, characterized by powerful neural networks achieving remarkable feats in various domains.  While early limitations in computational power and data hampered progress, recent advances have led to widespread adoption and transformative impacts across numerous sectors, although ethical considerations are increasingly prominent.\n",
      "\n"
     ]
    }
   ],
   "source": [
    "# Step 1: Load API key securely from .env\n",
    "import os\n",
    "from dotenv import load_dotenv\n",
    "import google.generativeai as genai\n",
    "\n",
    "load_dotenv()\n",
    "api_key = os.getenv(\"GEMINI_API_KEY\")\n",
    "genai.configure(api_key=api_key)\n",
    "\n",
    "# Step 2: Define the model\n",
    "model = genai.GenerativeModel(\"gemini-1.5-flash\")\n",
    "\n",
    "\n",
    "# Step 3: Load prompt text files\n",
    "def load_prompt(path):\n",
    "    with open(path, \"r\", encoding=\"utf-8\") as f:\n",
    "        return f.read()\n",
    "\n",
    "prompts = {\n",
    "    \"Direct Prompt\": load_prompt(\"prompts/direct.txt\"),\n",
    "    \"Role-Based Prompt\": load_prompt(\"prompts/role_based.txt\"),\n",
    "    \"Chain-of-Thought Prompt\": load_prompt(\"prompts/chain_of_thought.txt\")\n",
    "}\n",
    "\n",
    "# Step 4: Initialize the Gemini model\n",
    "model = genai.GenerativeModel(\"gemini-1.5-flash\")\n",
    "\n",
    "# Step 5: Generate and print outputs for each prompt\n",
    "for label, prompt in prompts.items():\n",
    "    print(f\"\\n--- {label} ---\\n\")\n",
    "    if not prompt.strip():\n",
    "        print(\"Prompt is empty. Skipping.\")\n",
    "        continue\n",
    "    response = model.generate_content(prompt)\n",
    "    print(response.text)\n"
   ]
  },
  {
   "cell_type": "code",
   "execution_count": null,
   "id": "0a37d436",
   "metadata": {},
   "outputs": [
    {
     "name": "stdout",
     "output_type": "stream",
     "text": [
      "Gemini's Response: \"Please let me know if you are available.\"\n",
      "\n"
     ]
    }
   ],
   "source": [
    "import os\n",
    "from dotenv import load_dotenv\n",
    "import google.generativeai as genai\n",
    "\n",
    "load_dotenv()\n",
    "api_key = os.getenv(\"GEMINI_API_KEY\")\n",
    "genai.configure(api_key=api_key)\n",
    "\n",
    "model = genai.GenerativeModel(\"gemini-1.5-flash\")\n",
    "\n",
    "prompt = \"What are the benefits of using Gemini for AI applications?\"\n",
    "\n",
    "# Few-Shot Prompt: Informal to Formal Text\n",
    "prompt = \"\"\"\n",
    "Convert the following informal sentences into formal English:\n",
    "\n",
    "Example 1:\n",
    "Informal: \"Hey, I wanna talk about that stuff we discussed.\"\n",
    "Formal: \"Hello, I would like to discuss the topic we previously talked about.\"\n",
    "\n",
    "Example 2:\n",
    "Informal: \"Gimme a sec, I’m kinda busy.\"\n",
    "Formal: \"Please give me a moment; I am currently occupied.\"\n",
    "\n",
    "Example 3:\n",
    "Informal: \"Lemme know if you’re free.\"\n",
    "Formal:\n",
    "\"\"\"\n",
    "\n",
    "response = model.generate_content(prompt)\n",
    "print(\"Gemini's Response:\", response.text)\n"
   ]
  }
 ],
 "metadata": {
  "kernelspec": {
   "display_name": ".venv",
   "language": "python",
   "name": "python3"
  },
  "language_info": {
   "codemirror_mode": {
    "name": "ipython",
    "version": 3
   },
   "file_extension": ".py",
   "mimetype": "text/x-python",
   "name": "python",
   "nbconvert_exporter": "python",
   "pygments_lexer": "ipython3",
   "version": "3.13.3"
  }
 },
 "nbformat": 4,
 "nbformat_minor": 5
}
