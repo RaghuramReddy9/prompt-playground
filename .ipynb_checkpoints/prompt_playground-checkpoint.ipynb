{
 "cells": [
  {
   "cell_type": "code",
   "execution_count": 15,
   "id": "efb3cd2d",
   "metadata": {},
   "outputs": [
    {
     "name": "stdout",
     "output_type": "stream",
     "text": [
      "\n",
      "--- Direct Prompt ---\n",
      "\n",
      "The history of artificial intelligence is marked by periods of optimism and disillusionment.  Early work in the 1950s and 60s focused on symbolic reasoning and problem-solving, leading to initial successes but also encountering limitations with complex real-world tasks.  The field experienced \"AI winters\" due to unmet expectations and funding cuts.  Renewed interest in the late 1980s and 90s arose with expert systems and machine learning advancements.  The 21st century has witnessed a dramatic resurgence fueled by big data, improved algorithms (particularly deep learning), and increased computing power, leading to breakthroughs in areas like image recognition, natural language processing, and game playing, though ethical concerns and potential societal impacts remain prominent.\n",
      "\n",
      "\n",
      "--- Role-Based Prompt ---\n",
      "\n",
      "The history of artificial intelligence is marked by alternating periods of optimism and disillusionment, often called \"AI winters.\"  Beginning in the 1950s with Dartmouth Workshop's ambitious goal of creating a thinking machine, early AI focused on symbolic reasoning and logic.  Progress was initially rapid, but limitations in computing power and the complexity of real-world problems led to the first AI winter in the 1970s. The field revived in the 1980s with expert systems and the rise of connectionism, followed by another downturn in the late 1980s and early 1990s.  The 2000s and beyond saw a resurgence driven by increased computing power, the availability of vast datasets, and breakthroughs in machine learning, particularly deep learning, leading to impressive achievements in areas like image recognition, natural language processing, and game playing, though significant challenges regarding explainability, bias, and ethical implications remain.\n",
      "\n",
      "\n",
      "--- Chain-of-Thought Prompt ---\n",
      "\n",
      "Step 1: Early Days (1950s-1970s):  The field of AI officially began with the Dartmouth Workshop in 1956, laying out ambitious goals for creating thinking machines.  Early successes with simple game-playing programs and theorem proving fueled optimism. However, limitations in computing power and the complexity of real-world problems led to the first AI winter (a period of reduced funding and interest) in the 1970s.\n",
      "\n",
      "Step 2: Expert Systems and Renewed Interest (1980s):  The development of expert systems, which used rule-based reasoning to mimic human expertise in specific domains, sparked renewed interest and investment.  This period saw the rise of commercial applications, but limitations in knowledge representation and scalability led to a second AI winter in the late 1980s.\n",
      "\n",
      "Step 3: The Rise of Machine Learning (1990s-Present): Advances in computing power, the availability of large datasets, and the development of new machine learning algorithms, particularly deep learning, revolutionized the field.  The turn of the millennium saw breakthroughs in image recognition, natural language processing, and game playing.  The widespread availability of powerful GPUs and cloud computing further accelerated progress.  Deep learning's success has led to the current era of widespread AI applications across various sectors, including healthcare, finance, and transportation.\n",
      "\n",
      "Step 4:  Current Landscape: AI continues to rapidly evolve, tackling increasingly complex tasks and raising significant ethical and societal concerns.  Areas like reinforcement learning, generative models, and explainable AI are at the forefront of current research.\n",
      "\n",
      "\n",
      "**Summary:** The history of AI is characterized by periods of intense optimism followed by periods of disillusionment (\"AI winters\").  Starting with the Dartmouth Workshop in 1956, initial successes in narrow domains were followed by limitations in computing and understanding complexity.  Expert systems briefly revived the field in the 1980s, but the real revolution came with the advent of powerful machine learning algorithms and readily available data in the late 20th and early 21st centuries. This led to the current era of widespread AI applications and ongoing research into more sophisticated and responsible AI systems.\n",
      "\n"
     ]
    }
   ],
   "source": [
    "# Step 1: Load API key securely from .env\n",
    "import os\n",
    "from dotenv import load_dotenv\n",
    "import google.generativeai as genai\n",
    "\n",
    "load_dotenv()\n",
    "api_key = os.getenv(\"GEMINI_API_KEY\")\n",
    "genai.configure(api_key=api_key)\n",
    "\n",
    "# Step 2: Define the model\n",
    "model = genai.GenerativeModel(\"gemini-1.5-flash\")\n",
    "\n",
    "\n",
    "# Step 3: Load prompt text files\n",
    "def load_prompt(path):\n",
    "    with open(path, \"r\", encoding=\"utf-8\") as f:\n",
    "        return f.read()\n",
    "\n",
    "prompts = {\n",
    "    \"Direct Prompt\": load_prompt(\"prompts/direct.txt\"),\n",
    "    \"Role-Based Prompt\": load_prompt(\"prompts/role_based.txt\"),\n",
    "    \"Chain-of-Thought Prompt\": load_prompt(\"prompts/chain_of_thought.txt\")\n",
    "}\n",
    "\n",
    "# Step 4: Initialize the Gemini model\n",
    "model = genai.GenerativeModel(\"gemini-1.5-flash\")\n",
    "\n",
    "# Step 5: Generate and print outputs for each prompt\n",
    "for label, prompt in prompts.items():\n",
    "    print(f\"\\n--- {label} ---\\n\")\n",
    "    if not prompt.strip():\n",
    "        print(\"Prompt is empty. Skipping.\")\n",
    "        continue\n",
    "    response = model.generate_content(prompt)\n",
    "    print(response.text)\n"
   ]
  },
  {
   "cell_type": "code",
   "execution_count": null,
   "id": "0a37d436",
   "metadata": {},
   "outputs": [
    {
     "name": "stdout",
     "output_type": "stream",
     "text": [
      "Gemini's Response: \"Please let me know if you are available.\"\n",
      "\n"
     ]
    }
   ],
   "source": [
    "import os\n",
    "from dotenv import load_dotenv\n",
    "import google.generativeai as genai\n",
    "\n",
    "load_dotenv()\n",
    "api_key = os.getenv(\"GEMINI_API_KEY\")\n",
    "genai.configure(api_key=api_key)\n",
    "\n",
    "model = genai.GenerativeModel(\"gemini-1.5-flash\")\n",
    "\n",
    "prompt = \"What are the benefits of using Gemini for AI applications?\"\n",
    "\n",
    "# Few-Shot Prompt: Informal to Formal Text\n",
    "prompt = \"\"\"\n",
    "Convert the following informal sentences into formal English:\n",
    "\n",
    "Example 1:\n",
    "Informal: \"Hey, I wanna talk about that stuff we discussed.\"\n",
    "Formal: \"Hello, I would like to discuss the topic we previously talked about.\"\n",
    "\n",
    "Example 2:\n",
    "Informal: \"Gimme a sec, I’m kinda busy.\"\n",
    "Formal: \"Please give me a moment; I am currently occupied.\"\n",
    "\n",
    "Example 3:\n",
    "Informal: \"Lemme know if you’re free.\"\n",
    "Formal:\n",
    "\"\"\"\n",
    "\n",
    "response = model.generate_content(prompt)\n",
    "print(\"Gemini's Response:\", response.text)\n"
   ]
  }
 ],
 "metadata": {
  "kernelspec": {
   "display_name": ".venv",
   "language": "python",
   "name": "python3"
  },
  "language_info": {
   "codemirror_mode": {
    "name": "ipython",
    "version": 3
   },
   "file_extension": ".py",
   "mimetype": "text/x-python",
   "name": "python",
   "nbconvert_exporter": "python",
   "pygments_lexer": "ipython3",
   "version": "3.13.3"
  }
 },
 "nbformat": 4,
 "nbformat_minor": 5
}
